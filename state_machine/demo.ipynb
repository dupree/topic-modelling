{
 "cells": [
  {
   "cell_type": "code",
   "execution_count": 1,
   "metadata": {},
   "outputs": [
    {
     "name": "stderr",
     "output_type": "stream",
     "text": [
      "DEBUG:root:Initialised a coin machine, please change states by on_event() function call\n",
      "DEBUG:root:Entered LockedState\n"
     ]
    }
   ],
   "source": [
    "from simple_coin_machine import SimpleCoinMachine\n",
    "device = SimpleCoinMachine()"
   ]
  },
  {
   "cell_type": "code",
   "execution_count": 10,
   "metadata": {},
   "outputs": [
    {
     "name": "stdout",
     "output_type": "stream",
     "text": [
      "This event pass is not supported in this state\n",
      "Supported events are ['coin', 'failed']\n"
     ]
    }
   ],
   "source": [
    "device.on_event('pass')"
   ]
  },
  {
   "cell_type": "code",
   "execution_count": 3,
   "metadata": {},
   "outputs": [
    {
     "name": "stdout",
     "output_type": "stream",
     "text": [
      "This event pin_entered is not supported in this state\n",
      "Supported events are ['coin', 'failed']\n"
     ]
    }
   ],
   "source": [
    "device.on_event('pin_entered')"
   ]
  },
  {
   "cell_type": "code",
   "execution_count": 18,
   "metadata": {},
   "outputs": [
    {
     "name": "stdout",
     "output_type": "stream",
     "text": [
      "current collected_amount is 0\n",
      "please enter the amount of coins5\n",
      "Still need 15 coins to unlock\n"
     ]
    }
   ],
   "source": [
    "device.on_event('coin')"
   ]
  },
  {
   "cell_type": "code",
   "execution_count": 12,
   "metadata": {},
   "outputs": [
    {
     "name": "stdout",
     "output_type": "stream",
     "text": [
      "current collected_amount is 16\n",
      "please enter the amount of coins4\n"
     ]
    },
    {
     "name": "stderr",
     "output_type": "stream",
     "text": [
      "DEBUG:root:Entered UnlockedState\n"
     ]
    }
   ],
   "source": [
    "device.on_event('coin')"
   ]
  },
  {
   "cell_type": "code",
   "execution_count": 16,
   "metadata": {},
   "outputs": [
    {
     "name": "stderr",
     "output_type": "stream",
     "text": [
      "DEBUG:root:Entered BrokenState\n"
     ]
    },
    {
     "name": "stdout",
     "output_type": "stream",
     "text": [
      "LockedState\n",
      "Machine is Out of order\n"
     ]
    }
   ],
   "source": [
    "print (device.state)\n",
    "device.on_event('failed')"
   ]
  },
  {
   "cell_type": "code",
   "execution_count": 17,
   "metadata": {},
   "outputs": [
    {
     "name": "stderr",
     "output_type": "stream",
     "text": [
      "DEBUG:root:Entered LockedState\n"
     ]
    }
   ],
   "source": [
    "device.on_event('fixed')"
   ]
  },
  {
   "cell_type": "code",
   "execution_count": 8,
   "metadata": {},
   "outputs": [
    {
     "name": "stdout",
     "output_type": "stream",
     "text": [
      "This event coin is not supported in this state\n",
      "Supported events are ['fixed']\n"
     ]
    }
   ],
   "source": [
    "device.on_event('coin')"
   ]
  },
  {
   "cell_type": "code",
   "execution_count": 9,
   "metadata": {},
   "outputs": [
    {
     "name": "stderr",
     "output_type": "stream",
     "text": [
      "DEBUG:root:Entered LockedState\n"
     ]
    }
   ],
   "source": [
    "device.on_event('fixed')"
   ]
  }
 ],
 "metadata": {
  "kernelspec": {
   "display_name": "Python 3",
   "language": "python",
   "name": "python3"
  },
  "language_info": {
   "codemirror_mode": {
    "name": "ipython",
    "version": 3
   },
   "file_extension": ".py",
   "mimetype": "text/x-python",
   "name": "python",
   "nbconvert_exporter": "python",
   "pygments_lexer": "ipython3",
   "version": "3.7.3"
  }
 },
 "nbformat": 4,
 "nbformat_minor": 2
}
