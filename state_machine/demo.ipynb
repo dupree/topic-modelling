{
 "cells": [
  {
   "cell_type": "code",
   "execution_count": 18,
   "metadata": {},
   "outputs": [
    {
     "name": "stderr",
     "output_type": "stream",
     "text": [
      "DEBUG:root:Initialised a coin machine, please change states by on_event() function call\n",
      "DEBUG:root:Entered LockedState\n"
     ]
    }
   ],
   "source": [
    "from simple_coin_machine import SimpleCoinMachine\n",
    "from my_states import LockedState, UnlockedState, BrokenState\n",
    "import my_states\n",
    "\n",
    "device = SimpleCoinMachine()"
   ]
  },
  {
   "cell_type": "code",
   "execution_count": 2,
   "metadata": {},
   "outputs": [],
   "source": [
    "device.on_event('pass')"
   ]
  },
  {
   "cell_type": "code",
   "execution_count": 3,
   "metadata": {},
   "outputs": [
    {
     "name": "stdout",
     "output_type": "stream",
     "text": [
      "This event pin_entered is not supported in this state\n",
      "Supported events are ['coin', 'failed']\n"
     ]
    }
   ],
   "source": [
    "device.on_event('pin_entered')"
   ]
  },
  {
   "cell_type": "code",
   "execution_count": 4,
   "metadata": {},
   "outputs": [
    {
     "name": "stdout",
     "output_type": "stream",
     "text": [
      "current collected_amount is 0\n",
      "please enter the amount of coins20\n"
     ]
    },
    {
     "name": "stderr",
     "output_type": "stream",
     "text": [
      "DEBUG:root:Entered UnlockedState\n"
     ]
    }
   ],
   "source": [
    "device.on_event('coin')"
   ]
  },
  {
   "cell_type": "code",
   "execution_count": 5,
   "metadata": {},
   "outputs": [
    {
     "name": "stdout",
     "output_type": "stream",
     "text": [
      "Thanks!\n"
     ]
    }
   ],
   "source": [
    "device.on_event('coin')"
   ]
  },
  {
   "cell_type": "code",
   "execution_count": 6,
   "metadata": {},
   "outputs": [
    {
     "name": "stderr",
     "output_type": "stream",
     "text": [
      "DEBUG:root:Entered BrokenState\n"
     ]
    },
    {
     "name": "stdout",
     "output_type": "stream",
     "text": [
      "UnlockedState\n",
      "Machine is Out of order\n"
     ]
    }
   ],
   "source": [
    "print (device.state)\n",
    "device.on_event('failed')"
   ]
  },
  {
   "cell_type": "code",
   "execution_count": 7,
   "metadata": {},
   "outputs": [
    {
     "name": "stderr",
     "output_type": "stream",
     "text": [
      "DEBUG:root:Entered LockedState\n"
     ]
    }
   ],
   "source": [
    "device.on_event('fixed')"
   ]
  },
  {
   "cell_type": "code",
   "execution_count": 8,
   "metadata": {},
   "outputs": [
    {
     "name": "stdout",
     "output_type": "stream",
     "text": [
      "current collected_amount is 0\n",
      "please enter the amount of coins20\n"
     ]
    },
    {
     "name": "stderr",
     "output_type": "stream",
     "text": [
      "DEBUG:root:Entered UnlockedState\n"
     ]
    }
   ],
   "source": [
    "device.on_event('coin')"
   ]
  },
  {
   "cell_type": "code",
   "execution_count": 9,
   "metadata": {},
   "outputs": [
    {
     "name": "stdout",
     "output_type": "stream",
     "text": [
      "This event fixed is not supported in this state\n",
      "Supported events are ['pass', 'coin', 'failed']\n"
     ]
    }
   ],
   "source": [
    "device.on_event('fixed')"
   ]
  },
  {
   "cell_type": "markdown",
   "metadata": {},
   "source": [
    "### Unit Tests:\n",
    "- Follwing cell shows the unit tests\n",
    "- Please **run the tests via command line**, as the notebook is not handling command line params as expected\n",
    "- To run the tests via command line: **python -m unittest test**"
   ]
  },
  {
   "cell_type": "code",
   "execution_count": 62,
   "metadata": {
    "scrolled": true
   },
   "outputs": [
    {
     "name": "stderr",
     "output_type": "stream",
     "text": [
      "test_accumulate (__main__.TestNotebook) ... DEBUG:root:Initialised a coin machine, please change states by on_event() function call\n",
      "DEBUG:root:Entered LockedState\n"
     ]
    },
    {
     "name": "stdout",
     "output_type": "stream",
     "text": [
      "current collected_amount is 0\n",
      "please enter the amount of coins10\n",
      "Still need 10 coins to unlock\n",
      "current collected_amount is 10\n",
      "please enter the amount of coins20\n"
     ]
    },
    {
     "name": "stderr",
     "output_type": "stream",
     "text": [
      "DEBUG:root:Entered UnlockedState\n",
      "ok\n",
      "test_illegal_moves_BrokenState (__main__.TestNotebook) ... DEBUG:root:Initialised a coin machine, please change states by on_event() function call\n",
      "DEBUG:root:Entered LockedState\n",
      "DEBUG:root:Entered BrokenState\n",
      "ok\n",
      "test_illegal_moves_LockedState (__main__.TestNotebook) ... DEBUG:root:Initialised a coin machine, please change states by on_event() function call\n",
      "DEBUG:root:Entered LockedState\n"
     ]
    },
    {
     "name": "stdout",
     "output_type": "stream",
     "text": [
      "Machine is Out of order\n",
      "This event pass is not supported in this state\n",
      "Supported events are ['coin', 'failed']\n",
      "This event fixed is not supported in this state\n",
      "Supported events are ['coin', 'failed']\n",
      "current collected_amount is 0\n",
      "please enter the amount of coins10\n"
     ]
    },
    {
     "name": "stderr",
     "output_type": "stream",
     "text": [
      "ok\n",
      "test_illegal_moves_UnlockedState (__main__.TestNotebook) ... DEBUG:root:Initialised a coin machine, please change states by on_event() function call\n",
      "DEBUG:root:Entered LockedState\n"
     ]
    },
    {
     "name": "stdout",
     "output_type": "stream",
     "text": [
      "Still need 10 coins to unlock\n",
      "current collected_amount is 0\n",
      "please enter the amount of coins20\n"
     ]
    },
    {
     "name": "stderr",
     "output_type": "stream",
     "text": [
      "DEBUG:root:Entered UnlockedState\n",
      "ok\n",
      "test_legal_moves_BrokenState (__main__.TestNotebook) ... DEBUG:root:Initialised a coin machine, please change states by on_event() function call\n",
      "DEBUG:root:Entered LockedState\n",
      "DEBUG:root:Entered BrokenState\n",
      "DEBUG:root:Entered LockedState\n",
      "ok\n",
      "test_legal_moves_LockedState (__main__.TestNotebook) ... DEBUG:root:Initialised a coin machine, please change states by on_event() function call\n",
      "DEBUG:root:Entered LockedState\n",
      "DEBUG:root:Entered BrokenState\n",
      "DEBUG:root:Entered LockedState\n"
     ]
    },
    {
     "name": "stdout",
     "output_type": "stream",
     "text": [
      "This event fixed is not supported in this state\n",
      "Supported events are ['pass', 'coin', 'failed']\n",
      "Machine is Out of order\n",
      "Machine is Out of order\n",
      "current collected_amount is 0\n",
      "please enter the amount of coins10\n",
      "Still need 10 coins to unlock\n",
      "current collected_amount is 10\n",
      "please enter the amount of coins20\n"
     ]
    },
    {
     "name": "stderr",
     "output_type": "stream",
     "text": [
      "DEBUG:root:Entered UnlockedState\n",
      "ok\n",
      "test_legal_moves_UnlockedState (__main__.TestNotebook) ... DEBUG:root:Initialised a coin machine, please change states by on_event() function call\n",
      "DEBUG:root:Entered LockedState\n"
     ]
    },
    {
     "name": "stdout",
     "output_type": "stream",
     "text": [
      "current collected_amount is 0\n",
      "please enter the amount of coins20\n"
     ]
    },
    {
     "name": "stderr",
     "output_type": "stream",
     "text": [
      "DEBUG:root:Entered UnlockedState\n",
      "DEBUG:root:Entered BrokenState\n",
      "DEBUG:root:Entered LockedState\n"
     ]
    },
    {
     "name": "stdout",
     "output_type": "stream",
     "text": [
      "Machine is Out of order\n",
      "current collected_amount is 0\n",
      "please enter the amount of coins20\n"
     ]
    },
    {
     "name": "stderr",
     "output_type": "stream",
     "text": [
      "DEBUG:root:Entered UnlockedState\n",
      "DEBUG:root:Entered LockedState\n",
      "ok\n",
      "test_state_initial (__main__.TestNotebook) ... DEBUG:root:Initialised a coin machine, please change states by on_event() function call\n",
      "DEBUG:root:Entered LockedState\n",
      "ok\n",
      "\n",
      "----------------------------------------------------------------------\n",
      "Ran 8 tests in 98.794s\n",
      "\n",
      "OK\n"
     ]
    },
    {
     "data": {
      "text/plain": [
       "<unittest.main.TestProgram at 0x7f0decbb3eb8>"
      ]
     },
     "execution_count": 62,
     "metadata": {},
     "output_type": "execute_result"
    }
   ],
   "source": [
    "# test.py\n",
    "\n",
    "import unittest\n",
    "import io\n",
    "import sys\n",
    "from contextlib import contextmanager\n",
    "\n",
    "from simple_coin_machine import SimpleCoinMachine\n",
    "import my_states\n",
    "\n",
    "@contextmanager\n",
    "def replace_stdin(target):\n",
    "    orig = sys.stdin\n",
    "    sys.stdin = target\n",
    "    yield\n",
    "    sys.stdin = orig\n",
    "\n",
    "\n",
    "class TestNotebook(unittest.TestCase):\n",
    "\n",
    "    def setUp(self):\n",
    "        self.device = SimpleCoinMachine()\n",
    "\n",
    "    def test_state_initial(self): # tests machine starts in Locked state with collected_amount = 0\n",
    "        self.assertEqual(str(self.device.state), \"LockedState\")\n",
    "        self.assertEqual(self.device.state.collected_amount, 0)\n",
    "\n",
    "    # test (a subset of) state transitions which are not allowed\n",
    "\n",
    "    def test_illegal_moves_LockedState(self):\n",
    "        self.assertEqual(str(self.device.state), \"LockedState\")\n",
    "        self.device.on_event('pass')\n",
    "        self.assertEqual(str(self.device.state), \"LockedState\")\n",
    "        self.device.on_event('fixed')\n",
    "        self.assertEqual(str(self.device.state), \"LockedState\")\n",
    "\n",
    "        with replace_stdin(io.StringIO(\"10\")): # with 10 coins machine stays in LockedState\n",
    "            self.device.on_event('coin')\n",
    "            self.assertEqual(str(self.device.state), \"LockedState\")\n",
    "        \n",
    "    def test_illegal_moves_UnlockedState(self):\n",
    "        self.assertEqual(str(self.device.state), \"LockedState\")\n",
    "        \n",
    "        with replace_stdin(io.StringIO(\"20\")): # with 20 coins machine moves to UnlockedState\n",
    "            self.device.on_event('coin')\n",
    "            self.assertEqual(str(self.device.state), \"UnlockedState\")\n",
    "            \n",
    "        self.device.on_event('fixed')\n",
    "        self.assertEqual(str(self.device.state), \"UnlockedState\")\n",
    "\n",
    "    def test_illegal_moves_BrokenState(self):\n",
    "        self.assertEqual(str(self.device.state), \"LockedState\")\n",
    "        self.device.on_event('failed')\n",
    "        self.assertEqual(str(self.device.state), \"BrokenState\")\n",
    "    \n",
    "    def test_accumulate(self):\n",
    "        with replace_stdin(io.StringIO(\"10\")): # with 10 coins machine stays in LockedState\n",
    "            self.device.on_event('coin')\n",
    "            self.assertEqual(self.device.state.collected_amount, 10)\n",
    "            self.assertEqual(str(self.device.state), \"LockedState\")\n",
    "            \n",
    "        with replace_stdin(io.StringIO(\"20\")): # with 20 coins machine moves to UnlockedState\n",
    "            self.device.on_event('coin')\n",
    "            self.assertEqual(str(self.device.state), \"UnlockedState\")        \n",
    "\n",
    "    # test (a subset of) state transitions which are allowed\n",
    "    \n",
    "    def test_legal_moves_LockedState(self):\n",
    "        self.assertEqual(str(self.device.state), \"LockedState\")\n",
    "        self.device.on_event('failed')\n",
    "        self.assertEqual(str(self.device.state), \"BrokenState\")\n",
    "\n",
    "        self.device.on_event('fixed') # move back to LockedState\n",
    "        with replace_stdin(io.StringIO(\"10\")): # with 10 coins machine stays in LockedState\n",
    "            self.device.on_event('coin')\n",
    "            self.assertEqual(str(self.device.state), \"LockedState\")\n",
    "\n",
    "        with replace_stdin(io.StringIO(\"20\")): # with 20 coins machine moves to UnlockedState\n",
    "            self.device.on_event('coin')\n",
    "            self.assertEqual(str(self.device.state), \"UnlockedState\")\n",
    "\n",
    "    def test_legal_moves_BrokenState(self): \n",
    "        self.device.on_event('failed')\n",
    "        self.assertEqual(str(self.device.state), \"BrokenState\")\n",
    "\n",
    "        self.device.on_event('fixed') # move back to LockedState\n",
    "        self.assertEqual(str(self.device.state), \"LockedState\")\n",
    "\n",
    "    def test_legal_moves_UnlockedState(self):\n",
    "        with replace_stdin(io.StringIO(\"20\")): # with 20 coins machine goes in UnlockedState\n",
    "            self.device.on_event('coin')\n",
    "            self.assertEqual(str(self.device.state), \"UnlockedState\")\n",
    "            self.device.on_event('failed')\n",
    "            self.assertEqual(str(self.device.state), \"BrokenState\")\n",
    "            self.device.on_event('fixed') # move back to LockedState\n",
    "\n",
    "        with replace_stdin(io.StringIO(\"20\")):    \n",
    "            self.device.on_event('coin')\n",
    "            self.assertEqual(str(self.device.state), \"UnlockedState\")\n",
    "            self.device.on_event('pass')\n",
    "            self.assertEqual(str(self.device.state), \"LockedState\")\n",
    "\n",
    "\n",
    "unittest.main(argv=[''], verbosity=2, exit=False)"
   ]
  }
 ],
 "metadata": {
  "kernelspec": {
   "display_name": "Python 3",
   "language": "python",
   "name": "python3"
  },
  "language_info": {
   "codemirror_mode": {
    "name": "ipython",
    "version": 3
   },
   "file_extension": ".py",
   "mimetype": "text/x-python",
   "name": "python",
   "nbconvert_exporter": "python",
   "pygments_lexer": "ipython3",
   "version": "3.7.3"
  }
 },
 "nbformat": 4,
 "nbformat_minor": 2
}
