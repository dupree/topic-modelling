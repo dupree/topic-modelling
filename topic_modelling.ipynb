{
 "cells": [
  {
   "cell_type": "code",
   "execution_count": 165,
   "metadata": {},
   "outputs": [
    {
     "name": "stderr",
     "output_type": "stream",
     "text": [
      "[nltk_data] Downloading package averaged_perceptron_tagger to\n",
      "[nltk_data]     /home/rshringi/nltk_data...\n",
      "[nltk_data]   Package averaged_perceptron_tagger is already up-to-\n",
      "[nltk_data]       date!\n"
     ]
    }
   ],
   "source": [
    "import matplotlib.pyplot as plt\n",
    "import numpy as np\n",
    "%matplotlib inline\n",
    "import os\n",
    "import sys\n",
    "import pandas as pd\n",
    "import datetime\n",
    "import re\n",
    "import nltk\n",
    "from nltk import ne_chunk_sents, ne_chunk, pos_tag, word_tokenize\n",
    "from nltk.tree import Tree\n",
    "# from stop_words import get_stop_words\n",
    "from nltk.corpus import stopwords\n",
    "nltk.download('averaged_perceptron_tagger')\n",
    "from nltk.tag import pos_tag\n",
    "\n",
    "from collections import Counter\n",
    "import operator\n",
    "\n",
    "# supressing the INFO log messages while training the model below to keep notebook from being unresponsive\n",
    "import logging\n",
    "logger = logging.getLogger()\n",
    "logger.setLevel(logging.CRITICAL)\n",
    "import warnings\n",
    "warnings.filterwarnings(\"ignore\", category=DeprecationWarning)"
   ]
  },
  {
   "cell_type": "markdown",
   "metadata": {},
   "source": [
    "# Topic Modeling\n",
    "\n",
    "This section is about unsupervised learning with text data.\n",
    "We'll be using a relatively small dataset, consisting of 3430 documents and a vocabulary of 6906 words drawn from the daily kos blog around 2004. \n",
    "\n",
    "You can download the data [here](https://s3-eu-west-1.amazonaws.com/lastmilecoding/exercise.tar.gz).\n"
   ]
  },
  {
   "cell_type": "markdown",
   "metadata": {},
   "source": [
    "## Bayesian mixture model\n",
    "\n",
    "We're going to model the documents as bags of words, with a bayesian mixture model.\n",
    "The documents are modeled using $K$ topics.\n",
    "The assignment of a document to a topic is modeled by the latent variable $z_d$.\n",
    "\n",
    "The topics are drawn from a categorical distribution with parameters $\\theta$, where $\\theta$ is drawn from a Dirichlet prior with parameter $\\alpha$.\n",
    "\n",
    "Each topic specifies a categorical distribution over words. The prior on each of these distributions is a Dirichlet with parameter $\\gamma$. \n",
    "\n",
    "\n",
    "The figure below shows this in a graphical model.\n"
   ]
  },
  {
   "cell_type": "markdown",
   "metadata": {},
   "source": [
    "![Graphical Model](http://i.imgur.com/AAGnKZ7.png)"
   ]
  },
  {
   "cell_type": "markdown",
   "metadata": {},
   "source": [
    "For simplicity, let's denote with $y_n$ the observations (i.e. the documents we see in the corpus).\n",
    "The conditional likelihood is:\n",
    "\n",
    "$$p(y_n|z_n \\negmedspace = \\negmedspace k,\\beta) = p(y_n|\\beta_k) = p(y_n|\\beta_{z_n})$$\n",
    "\n",
    "And we have a prior:\n",
    "\n",
    "$$p(\\beta_k)$$\n",
    "\n",
    "And a (latent) categorical assignment probability:\n",
    "\n",
    "$$p(z_n \\negmedspace= \\negmedspace k|\\theta) = \\theta_k$$\n",
    "\n",
    "which has a Dirichlet prior:\n",
    "\n",
    "$$p(\\theta|\\alpha) = Dir(\\alpha)$$\n",
    "\n",
    "Which gives our latent posterior:\n",
    "\n",
    "$$ p(z_n\\negmedspace=\\negmedspace k|y_n,\\theta,\\beta) \\quad \\propto p(z_n\\negmedspace =\\negmedspace k|\\theta)p(y_n|z_n \\negmedspace = \\negmedspace k,\\beta) \\quad \\propto \\theta_k p(y_n|\\beta_{z_n}) $$\n"
   ]
  },
  {
   "cell_type": "markdown",
   "metadata": {},
   "source": [
    "### Gibbs Sampling\n",
    "We will explore this model by drawing from the posterior using MCMC, specifically Gibbs sampling.\n",
    "\n",
    "We will alternately sample the three types of variables, & iterate this procedure multiple times.\n",
    "\n",
    "First we'll sample the component parameters:\n",
    "\n",
    "$$p(\\beta_k|y,z) \\quad \\propto p(\\beta_k) \\prod_{n:z_n=k} p(y_n|\\beta_k) $$\n",
    "\n",
    "Then the latent allocations of documents to topics:\n",
    "$$ p(z_n \\negmedspace= \\negmedspace k|y_n,\\theta,\\beta) \\quad \\propto \\theta_k p(y_n|\\beta_{z_n})$$\n",
    "\n",
    "and then the mixing proportions:\n",
    "\n",
    "$$p(\\theta|z,\\alpha) = p(\\theta|\\alpha)p(z|\\theta) = \\mathrm{Dir}\\left(\\frac{c_k+\\alpha_k}{\\sum_j c_j + \\alpha_j}\\right)$$\n",
    "\n",
    "where $c_k$ are the counts for mixture component $k$."
   ]
  },
  {
   "cell_type": "markdown",
   "metadata": {},
   "source": [
    "### The Collapsed Gibbs Sampler\n",
    "\n",
    "We marginalise over $\\theta$. (You do not need to derive this result).\n",
    "N.B. the notation $c_{-n}$ indicates all indices _except_ $n$. \n",
    "\n",
    "$$p(z_n \\negmedspace= \\negmedspace k|z_{-n},\\alpha) = \\frac{\\alpha + c_{-n,k}}{\\sum_j \\alpha + c_{-n,j}}$$\n",
    "\n",
    "which gives the _collapsed_ gibbs sampler for the latent assignments:\n",
    "\n",
    "$$p(z_n \\negmedspace= \\negmedspace k|y_n,z_{-n},\\beta,\\alpha) \\propto p(y_n|\\beta_k) \\frac{\\alpha + c_{-n,k}}{\\sum_j \\alpha + c_{-n,j}}$$"
   ]
  },
  {
   "cell_type": "markdown",
   "metadata": {},
   "source": [
    "### Code\n",
    "\n",
    "The documents have been split into two corpora, `A` and `B`.\n",
    "\n",
    "The array `words` is a list of all the words in both corpora.\n",
    "The matrices `A` and `B` are the train and test corpora, respectively. \n",
    "Each has 3 columns, there is one row for each unique word in each document.\n",
    "\n",
    "The first column is the document index, second is the word index (corresponding to `words`), and the third is the number of times that word appears in the document. "
   ]
  },
  {
   "cell_type": "code",
   "execution_count": 109,
   "metadata": {},
   "outputs": [],
   "source": [
    "A = np.load('./data/mat_A.npy')\n",
    "B = np.load('./data/mat_B.npy')\n",
    "words = np.load('./data/words.npy')\n",
    "\n",
    "W = np.max(np.hstack((A[:,1],B[:,1]))) + 1   # number of unique words\n",
    "D = np.max(A[:,0]) + 1   # number of documents in A\n",
    "K = 20 # number of mixture components we will use\n",
    "\n",
    "alpha = 10  # parameter of the Dirichlet over mixture components\n",
    "gamma = 0.1 # parameter of the Dirichlet over words"
   ]
  },
  {
   "cell_type": "markdown",
   "metadata": {},
   "source": [
    "The function below defines the following matrices:\n",
    " * `sd` : the mixture component assignment of each document\n",
    " * `swk` : K multinomial distributions over W unique words\n",
    " * `sk_docs` : the number of documents assigned to each mixture component\n",
    " * `sk_words` : the number of words assigned to mix component `k` accross all docs\n",
    " \n",
    "These are initialised by assigning each document to a mixture component at random."
   ]
  },
  {
   "cell_type": "code",
   "execution_count": 116,
   "metadata": {},
   "outputs": [],
   "source": [
    "def init():\n",
    "    sd = np.floor(K*np.random.random((D,1))).astype(int)   \n",
    "    swk = np.zeros((W,K))              \n",
    "    sk_docs = np.zeros((K,1)) \n",
    "\n",
    "    for d in np.arange(D): \n",
    "        w = A[A[:,0]==d,1]      # unique words in doc d\n",
    "        c = A[A[:,0]==d,2]      # counts\n",
    "        k = sd[d]               # doc d is in mixture k\n",
    "        swk[w,k] = swk[w,k] + c # num times word w is assigned to mixture component k\n",
    "        sk_docs[k] = sk_docs[k] + 1\n",
    "\n",
    "    sk_words = np.sum(swk,axis=0).T\n",
    "    return sd, swk, sk_docs, sk_words"
   ]
  },
  {
   "cell_type": "markdown",
   "metadata": {},
   "source": [
    "The following code starts from this initial state & then performs a number of gibbs sampling sweeps. \n",
    "We will use the collapsed Gibbs sampler, which uses the trick of excluding the current document's counts before calculating the posterior and resampling.\n"
   ]
  },
  {
   "cell_type": "code",
   "execution_count": 122,
   "metadata": {},
   "outputs": [
    {
     "name": "stdout",
     "output_type": "stream",
     "text": [
      "gibbs sweep : 0\n",
      "gibbs sweep : 1\n",
      "gibbs sweep : 2\n",
      "gibbs sweep : 3\n",
      "gibbs sweep : 4\n",
      "gibbs sweep : 5\n",
      "gibbs sweep : 6\n",
      "gibbs sweep : 7\n",
      "gibbs sweep : 8\n",
      "gibbs sweep : 9\n"
     ]
    }
   ],
   "source": [
    "sd, swk, sk_docs, sk_words = init()\n",
    "# This makes a number of Gibbs sampling sweeps through all docs and words\n",
    "num_sweeps = 10\n",
    "for i_sweep in np.arange(num_sweeps): \n",
    "    print(\"gibbs sweep : {0}\".format(i_sweep))\n",
    "    for d in np.arange(D):\n",
    "        w = A[A[:,0]==d,1]      # unique words in doc d\n",
    "        c = A[A[:,0]==d,2]      # counts\n",
    "\n",
    "        # remove doc d's contributions from count tables\n",
    "        swk[w,sd[d]] = swk[w,sd[d]] - c \n",
    "        sk_docs[sd[d]] = sk_docs[sd[d]] - 1 \n",
    "        sk_words[sd[d]] = sk_words[sd[d]] - np.sum(c) \n",
    "        \n",
    "        # log probability of doc d under each mixture component\n",
    "        lb = np.zeros(K)    \n",
    "        for k in np.arange(K):\n",
    "            ll = np.dot(c,( np.log(swk[w,k]+gamma) - np.log(sk_words[k] + gamma*W) ))\n",
    "            lb[k] = np.log(sk_docs[k] + alpha) + ll\n",
    "\n",
    "        # assign doc d to a new component\n",
    "        b = np.exp(lb-np.max(lb))  \n",
    "        kk = sample_discrete(b)  \n",
    "\n",
    "        # add back doc d's contributions from count tables\n",
    "        swk[w,kk] = swk[w,kk] + c \n",
    "        sk_docs[kk] = sk_docs[kk] + 1 \n",
    "        sk_words[kk] = sk_words[kk] + np.sum(c)\n",
    "        sd[d] = kk        "
   ]
  },
  {
   "cell_type": "code",
   "execution_count": 121,
   "metadata": {},
   "outputs": [],
   "source": [
    "# sd, swk, sk_docs, sk_words = init()\n",
    "\n",
    "# print (sd, type(sd), sd.shape)\n",
    "# print (swk[10], type(swk), swk.shape)\n",
    "# print (sk_docs, type(sk_docs), sk_docs.shape, np.sum(sk_docs))\n",
    "# print (sk_words, type(sk_words), sk_words.shape, np.sum(sk_words))"
   ]
  },
  {
   "cell_type": "markdown",
   "metadata": {},
   "source": [
    "#### Understanding the helper function: sample_discrete()\n",
    "- check and add comments"
   ]
  },
  {
   "cell_type": "code",
   "execution_count": 172,
   "metadata": {},
   "outputs": [],
   "source": [
    "# The function below draws a sample from an unnormalised discrete distribution.\n",
    "def sample_discrete(b):\n",
    "# np.random.random() return random floats in the half-open interval [0.0, 1.0). Thus making r = [0.0, np.sum(b))\n",
    "    r = np.sum(b)*np.random.random();\n",
    "# copying the contents of first element of b into a\n",
    "    a = b[0].copy()\n",
    "    i = 0\n",
    "# till a is less than the random value in r, update a as sum of a and next item in b, starting from b[1]\n",
    "    while a < r:\n",
    "        i += 1\n",
    "        a += b[i]\n",
    "    return i\n",
    "\n",
    "# the loop exits when a becomes higher than r, it returns that index(i) of b where summation from 0 to i of b[] \n",
    "# becomes greater than the number r\n",
    "\n",
    "# deductions: \"i\" is integer value < = len(b)-1 or (b.size - 1) and range for i = [0, len(b))"
   ]
  },
  {
   "cell_type": "markdown",
   "metadata": {},
   "source": [
    "## Task 1 : \n",
    "1. **Explain what the code above does. Are you happy with this model? What are its deficiencies?**\n",
    " \n",
    "**Answer:**: \n",
    "- Above code attempts to implement collapsed Gibb's sampler for LDA (latent Dirichlet Allocation).\n",
    "- Given a corpus of documents as distribution of words it aims to achieve the task of Topic Modelling\n",
    "\n",
    "**K** = 20 # number of Topics\n",
    "\n",
    "**sd** : Each row corresponds to specific document and the value of topic that the specific document belongs to, ranges from 0-19 (no of topics => K = 20)\n",
    "<br>One document is assigned to only one topic. ***However, ideally a document should have a distribution over topics***\n",
    "<br>dimension : (No. of unique docs, 1 ) = (2000, 1)\n",
    " \n",
    "**swk** : Distribution of K-topics for each word, over the entire corpus. \n",
    "<br> eg. [ 2.  3.  2.  0.  3.  1.  0.  1.  0.  0.  2. 14.  0.  5.  0.  0.  1.  0.  1. 11.]\n",
    "<br> dimension : (No. of unique words, No. of topics ) = (6906, 20)\n",
    "\n",
    "**sk_docs** : 20 entries one for each K topic, contains total no. of docs assigned per topic. \n",
    "<br>dimension : (No. of topics, 1 ) = (20, 1)\n",
    "<br> np.sum(sk_docs) = Total number of documents, **implying that each document belongs to only one Topic.**\n",
    "\n",
    "**sk_words** : 20 entries, one for each K topic. Shows number of words assigned to each topic over entire corpus. One word can be assigned to multiple topics.\n",
    "<br> eg. [11984. 12039. 13412. 11942. 13266. 15652. 12111. 13249. 14146. 15024.12709. 14054. 16948. 13121. 11197. 13787. 13317. 15356. 15046. 13538.] \n",
    "<br>dimension : (No. of topics, ) = (20,)\n",
    "<br>np.sum(sk_words) = 271898.0 > W ; **implying that one words belongs to one or more topics.**\n",
    " \n",
    "<br> The ***init()*** function:\n",
    "- Initialises vairables sd, swk, sk_docs, sk_words at random. \n",
    "- It begins by generating random numbers in range (0,1]*K for total no of documents(D) in train set, and initializes swk, sk_docs as numpy arrays filled with zeros. \n",
    "- Then it iterates over every document in range (0..D) and performs word count and topic count based on initial random distribution in sd.\n",
    "\n",
    "- w = A[A[:,0]==d,1] ; iterates over A, looks for all the (unique)words with the document_id 'd' and stores their word_index in w\n",
    "- c = A[A[:,0]==d,2]; iterates over A, looks for all the (unique)words with the document_id 'd' and stores their count in c \n",
    "- k = sd[d]; get the random topic assigned to document d\n",
    "- swk[w,k] = swk[w,k] + c ; Update the value of specific word count with the specific topic\n",
    "- sk_docs[k] = sk_docs[k] + 1 ; Increase the document associated with the topic 'k' by one\n",
    "- sk_words = np.sum(swk,axis=0).T; Gets the column wise sum in swk matrix to get sum of words per topic. \n",
    "\n",
    "<br> Now we **train** this model by Gibb's sampling technique. The algorithm works as follows:\n",
    "- we predefine no. of times Gibbs sampling is performed\n",
    "- for each iteration of Gibb's sampling, iterate over the each document in corpus.\n",
    "- we first calculate the contribution of words and topics for this document \"d\" and remove it from the matrices swk, sk_words, sk_docs. \n",
    "- The **idea** is to remove the contribution of document \"d\" and then re-sample it's contribution assuming that the contribution from all other documents stay fixed in swk, sk_words, sk_docs.\n",
    "**Resample the contribution of a document \"d\" given these existing data/matrices which acts as a Prior.**\n",
    "<br>\n",
    "\n",
    "- log probability of document \"d\" for belonging to a topic \"K\" is then calculated via iteration over each topic. \n",
    "- Variable \"ll\" calculates the dot product of \"c\" count of all uniques words with a log(fraction). The fraction represents probability of a specific word belonging to a specific topic, this includes the dirichlet coefficients acting as smoothing factors in case of values going to zero.\n",
    "\n",
    "- variable \"b\" represents the probablity distribution of document \"d\" to belong to \"K\" topics. [0..19]\n",
    "- kk = sample_discrete(b) returns an integer from range [0, 20) indicating the new topic doc \"d\" belongs to\n",
    "\n",
    "- once we have new topic \"kk\", we update the contribution of doc \"d\" throughout the matrices swk, sk_words, sk_docs and repeat the iteration for next documents\n",
    "\n",
    "- Although we start with random values but over a period of time (say after N sweeps - we forget the intialization if we run the sampler long enough) the values stabilize to give good co-relation between the calculated values in swk, sk_words, sk_docs with the observation (training data).  \n",
    "\n",
    "***Deficiences:*** \n",
    "<br>\n",
    "- Each document (data in **sd**) is assigned only one Topic while it ideally should be a distribution over k-topics similar to as the words are associated with multiple topics in **swk**.\n",
    "\n",
    "- Above algorithm is sampling a new(single) topic once we have re-sampled topic distributions for a specific document:<br>\n",
    "**kk = sample_discrete(b)**\n",
    "\n",
    "This returns a single number between [0,20) but is not stable and gives different values on subsequent runs.\n",
    "\n",
    "- Running on test data to infer new topic for say document zero of set B, call to sample_discrete(b) gives different topic assignment on subsequent runs with the fixed input \"b\" - topic distribution of document\n",
    "\n",
    "\n",
    "**Suggestions:**\n",
    "<br> (pseudocode)\n",
    "- **Iterate** for each document in corpus:\n",
    "    - for each word in document:\n",
    "        - reset it's contribution(count) values from topic-word distribution matrix and document-topic matrix accordingly\n",
    "        - based on values in word-topic matrix and document-topic matrix, recalculate two probabilities to represent: **how much each Topic likes this word** and **how much this document likes a specific topic**\n",
    "        - Product of above two quantities gives us the probaility distribution of the specific word with topics, the most probable topic can become a **new topic assignment** of this word. \n",
    "        - update the conribution of the word in topic-word distribution matrix and document-topic matrix\n",
    "        - repeat\n"
   ]
  },
  {
   "cell_type": "markdown",
   "metadata": {},
   "source": [
    "### Task 1:\n",
    "**2. Calculate the log probability of the first document in corpus B. What does this number mean?**\n",
    "<br>**Ans:**\n",
    "<br> I have calculated below the log probability of the first document in corpus B **under each mixture model**. This number shows the log probability value **distribution(numbers do NOT add up to 1)** of topics for first document in corpus B based on the, word-topic distribution and doc-topic distribution learnt during training through Gibbs sampling.  "
   ]
  },
  {
   "cell_type": "code",
   "execution_count": 130,
   "metadata": {},
   "outputs": [
    {
     "name": "stdout",
     "output_type": "stream",
     "text": [
      "[0.41532258 0.04233871 0.125      0.29032258 0.04637097 0.03629032\n",
      " 0.77016129 0.07862903 0.3266129  0.50806452 0.13104839 0.05645161\n",
      " 0.0483871  0.03830645 0.27217742 1.         0.08064516 0.05040323\n",
      " 0.02822581 0.09072581]\n",
      "9\n"
     ]
    }
   ],
   "source": [
    "#  log probability of the first document in corpus B under each mixture model\n",
    "d = 0\n",
    "K = 20\n",
    "w = B[B[:,0]==d,1]      # unique words in doc d\n",
    "c = B[B[:,0]==d,2]      # counts\n",
    "\n",
    "# log probability of doc d under each mixture component\n",
    "lb = np.zeros(K)    \n",
    "for k in np.arange(K):\n",
    "    ll = np.dot(c,( np.log(swk[w,k]+gamma) - np.log(sk_words[k] + gamma*W) ))\n",
    "    lb[k] = np.log(sk_docs[k] + alpha) + ll\n",
    "\n",
    "# assign doc d to a new component\n",
    "b = np.exp(lb-np.max(lb))  \n",
    "kk = sample_discrete(b)\n",
    "\n",
    "print (b)\n",
    "print (kk)"
   ]
  },
  {
   "cell_type": "markdown",
   "metadata": {},
   "source": [
    "### Task 1\n",
    "**3. Calculate the per-word perplexity of the test corpus. What does this number mean? Is it good?**\n",
    "\n",
    "- What does this number mean?\n",
    "<br> Perplexity, is an intrinsic way of evaluation of any language model(over here our Topic model). It's based on the idea that given the specific model parameteres how likely is to observe the given document/corpus. Also known as hold one out test(where test set is kept separate and is not used in training the model).\n",
    "<br> The higher the log likelihood of unseen documents the better the model. Preplexity is computed as the decreasing function of log likelihood of unseen documents. Thus the lower the perplexity the better the model.\n",
    "<br> \n",
    "- On reading more about perplexity computation, I did get to know about methods such as LR:Left-to-right. CS: Chib-style but couldn't implement them in given time.\n",
    "<br> Sources : http://dirichlet.net/pdf/wallach09evaluation.pdf\n",
    "<br> http://qpleple.com/perplexity-to-evaluate-topic-models/"
   ]
  },
  {
   "cell_type": "markdown",
   "metadata": {},
   "source": [
    "### Inferences :\n",
    "- Retrieving **top word distributions for each Topic** for above model \n",
    "- Using external libraries to perform topic modelling on **this data-set (mat_A.npy)**\n",
    "- https://pythonhosted.org/lda/\n",
    "- https://radimrehurek.com/gensim/models/ldamodel.html#gensim.models.ldamodel.LdaModel"
   ]
  },
  {
   "cell_type": "code",
   "execution_count": 135,
   "metadata": {
    "scrolled": true
   },
   "outputs": [
    {
     "name": "stdout",
     "output_type": "stream",
     "text": [
      "Topic 0: november poll house bush senate republicans kerry polls governor electoral \n",
      "Topic 1: senate republicans democrats investigation subpoena grand records federal law subpoenas \n",
      "Topic 2: nader ballot voters general republican bunning election state party voter \n",
      "Topic 3: bush kerry poll voters percent polls general president election polling \n",
      "Topic 4: bush kerry endorsement papers general oct news president editorial newspaper \n",
      "Topic 5: endorsement afscme unions dean labor seiu candidate union democratic clark \n",
      "Topic 6: kerry bush democratic campaign dean party media democrats edwards general \n",
      "Topic 7: bush kerry service guard records national military texas bushs kerrys \n",
      "Topic 8: bush president administration tax kerry republicans states jobs house people \n",
      "Topic 9: senate race house republican elections democratic state democrats percent district \n",
      "Topic 10: kerry bush poll results general polls pdf surveyusa percent voters \n",
      "Topic 11: delay committee house ethics texas democrats republican investigation elections bell \n",
      "Topic 12: research cell bush science stem reagan years mars dna life \n",
      "Topic 13: bush kerry ads campaign state percent general illinois firefighters bushs \n",
      "Topic 14: kerry dean edwards clark primary poll democratic gephardt lieberman iowa \n",
      "Topic 15: bush iraq war administration president people american general military house \n",
      "Topic 16: million campaign donors kerry bush candidates matsunaka dkos money funds \n",
      "Topic 17: campaign sunday national john sens adviser chairman kerry senator edition \n",
      "Topic 18: oceana official department register fishing vote media turner pentagon civilians \n",
      "Topic 19: ryan republican senate republicans keyes bush illinois convention obama gop \n"
     ]
    }
   ],
   "source": [
    "for k in range(0,20):\n",
    "    swk_T = swk.T\n",
    "    print (\"Topic %s:\" % k, end =\" \")\n",
    "    topic_wordIndices = np.argsort(swk_T[k])[::-1][:10]\n",
    "    for word_id in topic_wordIndices:\n",
    "        print (words[word_id], end =\" \")\n",
    "    print()"
   ]
  },
  {
   "cell_type": "code",
   "execution_count": 136,
   "metadata": {},
   "outputs": [],
   "source": [
    "# transforming data in the form ingestible by downstream LDA model\n",
    "\n",
    "X = np.zeros((D, words.size), dtype=int) # initialise a document-term matrix\n",
    "\n",
    "# Transforming the train set A in X(document-term matrix) where each row represents a document with counts of words in column, where \n",
    "# column number corresponds to word_index as stored in vocabulary @words\n",
    "\n",
    "for d in np.arange(D):\n",
    "    w = w = A[A[:,0]==d,1]      # unique words in doc d\n",
    "    c = A[A[:,0]==d,2] \n",
    "    for word_id in np.arange(len(w)):\n",
    "        X[d,w[word_id]] = int(c[word_id])"
   ]
  },
  {
   "cell_type": "code",
   "execution_count": 138,
   "metadata": {
    "scrolled": true
   },
   "outputs": [
    {
     "name": "stdout",
     "output_type": "stream",
     "text": [
      "Topic 0: people america time american years political white\n",
      "Topic 1: poll bush kerry percent polls voters polling\n",
      "Topic 2: november senate account governor electoral polls vote\n",
      "Topic 3: states state voters nader vote election general\n",
      "Topic 4: administration house bush officials white commission information\n",
      "Topic 5: november turnout exit west poll trouble parecommend\n",
      "Topic 6: iraq war bush administration united states american\n",
      "Topic 7: november voting general election planned soldier republicans\n",
      "Topic 8: media news ill blog press bloggers read\n",
      "Topic 9: senate campaign john bunning senator clinton news\n",
      "Topic 10: party democrats republican republicans democratic delay committee\n",
      "Topic 11: policy blades meteor reagan human research rights\n",
      "Topic 12: campaign money candidates million house race raised\n",
      "Topic 13: time people hard political election put matter\n",
      "Topic 14: dean edwards kerry primary democratic clark iowa\n",
      "Topic 15: law court bush national marriage state gay\n",
      "Topic 16: iraq war iraqi military soldiers troops forces\n",
      "Topic 17: bush tax jobs administration billion economy year\n",
      "Topic 18: bush kerry president general bushs john kerrys\n",
      "Topic 19: senate race house republican elections state seat\n"
     ]
    }
   ],
   "source": [
    "# https://pythonhosted.org/lda/\n",
    "# lda implements latent Dirichlet allocation (LDA) using collapsed Gibbs sampling.\n",
    "\n",
    "import lda\n",
    "vocab = words\n",
    "\n",
    "model = lda.LDA(n_topics=20, n_iter=2000, random_state=1)\n",
    "model.fit(X)  # model.fit_transform(X) is also available\n",
    "topic_word = model.topic_word_  # model.components_ also works\n",
    "n_top_words = 8\n",
    "for i, topic_dist in enumerate(topic_word):\n",
    "    topic_words = np.array(vocab)[np.argsort(topic_dist)][:-n_top_words:-1]\n",
    "    print('Topic {}: {}'.format(i, ' '.join(topic_words)))"
   ]
  },
  {
   "cell_type": "code",
   "execution_count": 145,
   "metadata": {},
   "outputs": [
    {
     "name": "stdout",
     "output_type": "stream",
     "text": [
      "loglikelihood value: -2173745.586473\n",
      "perplexity value: 314.761886\n",
      "It can be observed that the loglikelihood value stabilizes over a period of time.\n"
     ]
    },
    {
     "data": {
      "image/png": "[encoded data removed]",
      "text/plain": [
       "<Figure size 432x288 with 1 Axes>"
      ]
     },
     "metadata": {
      "needs_background": "light"
     },
     "output_type": "display_data"
    }
   ],
   "source": [
    "print (\"loglikelihood value: %f\" % (model.loglikelihood()))\n",
    "\n",
    "log_perplexity =  (-1 * (model.loglikelihood()/len(vocab)))\n",
    "print (\"perplexity value: %f\" % (log_perplexity))\n",
    "\n",
    "plt.xlabel(\"iterations*10\")\n",
    "plt.ylabel(\"loglikelihood\")\n",
    "plt.plot(model.loglikelihoods_[5:])\n",
    "\n",
    "print (\"It can be observed that the loglikelihood value stabilizes over a period of time.\")"
   ]
  },
  {
   "cell_type": "code",
   "execution_count": 157,
   "metadata": {},
   "outputs": [],
   "source": [
    "# transforming train set A into format to be used by Gensim\n",
    "\n",
    "#  each row of LIST X_corpus(document-term matrix) contains (word_id,count) where word_id is the identifier for a word in vocabulary\n",
    "#  count is the number of times that word appears in document\n",
    "\n",
    "X_corpus = [] \n",
    "\n",
    "# Transforming the train set A in X where each row represents a document with counts of words in column, where \n",
    "# column number corresponds to word_index as stored in vocabulary @words\n",
    "\n",
    "for d in np.arange(D):\n",
    "    w = w = A[A[:,0]==d,1]      # unique words in doc d\n",
    "    c = A[A[:,0]==d,2]\n",
    "    X_corpus.append(zip(w,c))\n",
    "    \n",
    "id2word = dict(enumerate(words.flatten(), 1))"
   ]
  },
  {
   "cell_type": "code",
   "execution_count": 746,
   "metadata": {},
   "outputs": [],
   "source": [
    "import gensim\n",
    "lda_model = gensim.models.ldamodel.LdaModel(corpus=X_corpus,\n",
    "                                           id2word=id2word,\n",
    "                                           num_topics=20, \n",
    "                                           random_state=100,\n",
    "                                           update_every=1,\n",
    "                                           chunksize=100,\n",
    "                                           passes=10,\n",
    "                                           alpha='auto',\n",
    "                                           per_word_topics=False)"
   ]
  },
  {
   "cell_type": "code",
   "execution_count": 747,
   "metadata": {
    "scrolled": true
   },
   "outputs": [
    {
     "name": "stdout",
     "output_type": "stream",
     "text": [
      "[(0,\n",
      "  u'0.035*\"bus\" + 0.019*\"millers\" + 0.018*\"jobless\" + 0.015*\"presidency\" + 0.015*\"tauzin\" + 0.015*\"admin\" + 0.014*\"bushrove\" + 0.013*\"economists\" + 0.012*\"bill\" + 0.012*\"echoed\"'),\n",
      " (1,\n",
      "  u'0.012*\"polish\" + 0.007*\"tim\" + 0.007*\"year\" + 0.007*\"metaphor\" + 0.007*\"blackwell\" + 0.006*\"proceed\" + 0.006*\"cent\" + 0.006*\"pentagons\" + 0.006*\"calistan\" + 0.006*\"confederate\"'),\n",
      " (2,\n",
      "  u'0.086*\"dealt\" + 0.076*\"edward\" + 0.063*\"primarily\" + 0.050*\"kerrey\" + 0.050*\"democrat\" + 0.041*\"clarify\" + 0.031*\"involving\" + 0.026*\"gep\" + 0.025*\"liebeck\" + 0.016*\"candidate\"'),\n",
      " (3,\n",
      "  u'0.024*\"camp\" + 0.012*\"tim\" + 0.010*\"pentagons\" + 0.009*\"shown\" + 0.008*\"harbor\" + 0.007*\"climate\" + 0.007*\"toll\" + 0.007*\"mess\" + 0.007*\"jindal\" + 0.007*\"weekly\"'),\n",
      " (4,\n",
      "  u'0.069*\"novak\" + 0.014*\"hours\" + 0.014*\"governments\" + 0.014*\"accomplishment\" + 0.014*\"elections\" + 0.013*\"politics\" + 0.013*\"sen\" + 0.013*\"republican\" + 0.012*\"polling\" + 0.010*\"volunteers\"'),\n",
      " (5,\n",
      "  u'0.047*\"sen\" + 0.032*\"spectacular\" + 0.028*\"oath\" + 0.021*\"illegally\" + 0.018*\"knowledge\" + 0.017*\"rva\" + 0.017*\"coattails\" + 0.016*\"bizarre\" + 0.016*\"primarily\" + 0.016*\"alex\"'),\n",
      " (6,\n",
      "  u'0.029*\"waited\" + 0.027*\"vibes\" + 0.024*\"absurd\" + 0.022*\"gharib\" + 0.018*\"toptier\" + 0.018*\"brazil\" + 0.018*\"balanced\" + 0.018*\"huh\" + 0.016*\"priority\" + 0.015*\"choices\"'),\n",
      " (7,\n",
      "  u'0.017*\"pentagons\" + 0.010*\"israeli\" + 0.009*\"amendments\" + 0.007*\"year\" + 0.007*\"tim\" + 0.006*\"facing\" + 0.006*\"supply\" + 0.005*\"lobbyists\" + 0.005*\"womans\" + 0.005*\"hoover\"'),\n",
      " (8,\n",
      "  u'0.049*\"politics\" + 0.043*\"perceived\" + 0.031*\"voter\" + 0.024*\"electing\" + 0.020*\"statements\" + 0.019*\"startspan\" + 0.018*\"volunteers\" + 0.017*\"polling\" + 0.017*\"number\" + 0.015*\"polled\"'),\n",
      " (9,\n",
      "  u'0.048*\"naacp\" + 0.027*\"uncovered\" + 0.024*\"krugman\" + 0.024*\"ball\" + 0.024*\"sharply\" + 0.020*\"dna\" + 0.017*\"jennings\" + 0.014*\"aristide\" + 0.013*\"wired\" + 0.012*\"president\"'),\n",
      " (10,\n",
      "  u'0.044*\"medals\" + 0.020*\"blocks\" + 0.018*\"international\" + 0.014*\"study\" + 0.014*\"weather\" + 0.014*\"shaping\" + 0.014*\"significance\" + 0.012*\"blogpac\" + 0.012*\"communities\" + 0.012*\"dozens\"'),\n",
      " (11,\n",
      "  u'0.031*\"admin\" + 0.020*\"hours\" + 0.020*\"whining\" + 0.014*\"replied\" + 0.013*\"officially\" + 0.013*\"commercials\" + 0.012*\"intellectual\" + 0.011*\"inform\" + 0.010*\"offers\" + 0.010*\"offices\"'),\n",
      " (12,\n",
      "  u'0.104*\"irans\" + 0.078*\"wapo\" + 0.025*\"america\" + 0.022*\"iraq\" + 0.021*\"militants\" + 0.016*\"troop\" + 0.015*\"sad\" + 0.014*\"soldier\" + 0.013*\"countries\" + 0.012*\"forced\"'),\n",
      " (13,\n",
      "  u'0.040*\"hours\" + 0.035*\"sen\" + 0.028*\"election\" + 0.023*\"monetary\" + 0.022*\"quoting\" + 0.020*\"candidate\" + 0.019*\"camp\" + 0.017*\"goopers\" + 0.016*\"republic\" + 0.015*\"democraticleaning\"'),\n",
      " (14,\n",
      "  u'0.018*\"attacking\" + 0.018*\"bills\" + 0.017*\"policies\" + 0.015*\"lacking\" + 0.012*\"forecast\" + 0.012*\"internals\" + 0.012*\"occasions\" + 0.011*\"seperate\" + 0.009*\"governing\" + 0.009*\"celebrity\"'),\n",
      " (15,\n",
      "  u'0.034*\"courage\" + 0.032*\"startspan\" + 0.018*\"loses\" + 0.018*\"flops\" + 0.017*\"voters\" + 0.014*\"laura\" + 0.014*\"suppression\" + 0.012*\"deciding\" + 0.012*\"duderino\" + 0.011*\"privacy\"'),\n",
      " (16,\n",
      "  u'0.031*\"gene\" + 0.028*\"falluja\" + 0.021*\"armstrong\" + 0.019*\"marilyn\" + 0.018*\"command\" + 0.017*\"gehlen\" + 0.016*\"kingelection\" + 0.016*\"sincerely\" + 0.016*\"stella\" + 0.016*\"citizenship\"'),\n",
      " (17,\n",
      "  u'0.126*\"bus\" + 0.077*\"kerrey\" + 0.030*\"gene\" + 0.029*\"presidency\" + 0.020*\"joel\" + 0.019*\"newly\" + 0.015*\"bushrove\" + 0.013*\"kerryedwards\" + 0.013*\"genuinely\" + 0.012*\"deaths\"'),\n",
      " (18,\n",
      "  u'0.050*\"parts\" + 0.038*\"democraticleaning\" + 0.035*\"republic\" + 0.034*\"republican\" + 0.031*\"democrat\" + 0.017*\"conservatism\" + 0.014*\"convenient\" + 0.012*\"goopers\" + 0.011*\"volunteers\" + 0.011*\"polish\"'),\n",
      " (19,\n",
      "  u'0.024*\"chemical\" + 0.023*\"securing\" + 0.016*\"guaranteed\" + 0.015*\"serves\" + 0.015*\"defending\" + 0.014*\"secretaries\" + 0.013*\"attached\" + 0.011*\"nation\" + 0.011*\"admin\" + 0.009*\"bunch\"')]\n",
      "('Perplexity: ', -7.74959255269985)\n"
     ]
    }
   ],
   "source": [
    "# Print the Keyword in the 20 topics\n",
    "from pprint import pprint\n",
    "pprint(lda_model.print_topics())\n",
    "doc_lda = lda_model[X_corpus]\n",
    "\n",
    "# Compute Perplexity\n",
    "print('Perplexity: ', lda_model.log_perplexity(X_corpus))  # a measure of how good the model is. lower the better.\n",
    "\n"
   ]
  },
  {
   "cell_type": "markdown",
   "metadata": {},
   "source": [
    "## Task 2:\n",
    "\n",
    "In this part, you will do **topic modeling on New York Times corpus**. You can download the corpus from here\n",
    "(https://www.kaggle.com/nzalake52/new-york-times-articles) . This part is free style, please show us what you got\n",
    "library is welcomed, in particlar we are happy to see\n",
    "- Sequential models\n",
    "- Respecting the document hierarchy, organization into sentences and paragraphs\n",
    "- Different sorts of attention"
   ]
  },
  {
   "cell_type": "markdown",
   "metadata": {},
   "source": [
    "### Data input and preprocessing :\n",
    "\n",
    "- before beginning with topic modelling, parsing the input and applying following **pre-processing**:\n",
    "    - remove the **URL** from each article as it will not add any value after tokenisation\n",
    "    - tokenisation, stop word removal\n",
    "    - proper noun(s) removal, as they will not provide additional value "
   ]
  },
  {
   "cell_type": "code",
   "execution_count": 3,
   "metadata": {},
   "outputs": [],
   "source": [
    "#Reading the news articles file\n",
    "\n",
    "nyTimesFile = open('new-york-times-articles/nytimes_news_articles.txt')\n",
    "nyTimesFile.seek(0)\n",
    "nyTimesV1 = nyTimesFile.readlines()\n",
    "nyTimesArticles = []\n",
    "nyTimesURL = []\n",
    "\n",
    "# collecting and removing the URLs into a separate list \n",
    "for i in range(0, len(nyTimesV1)-1):\n",
    "    if re.findall('URL', nyTimesV1[i]) == []:\n",
    "        sent = sent + nyTimesV1[i]\n",
    "        if (re.findall('URL', nyTimesV1[i+1]) != []) and (i+1 < len(nyTimesV1)):\n",
    "            nyTimesArticles.append(sent.strip())\n",
    "    else:\n",
    "        sent = ''\n",
    "        nyTimesURL.append(nyTimesV1[i])"
   ]
  },
  {
   "cell_type": "code",
   "execution_count": 11,
   "metadata": {
    "scrolled": false
   },
   "outputs": [
    {
     "name": "stdout",
     "output_type": "stream",
     "text": [
      "#### BEFORE preprocess article contents : \n",
      "WASHINGTON — Stellar pitching kept the Mets afloat in the first half of last season despite their of\n",
      "##### done with tokenisation and stop word removal. After article contents :\n",
      "['WASHINGTON', 'Stellar', 'pitching', 'kept', 'Mets', 'afloat', 'first', 'half', 'last', 'season']\n"
     ]
    }
   ],
   "source": [
    "stop_words = stopwords.words('english')\n",
    "stop_words_caps = [word.title() for word in stop_words]\n",
    "# generating list of stop_words with title case to be removed from text as well\n",
    "stop_words.extend(stop_words_caps)\n",
    "\n",
    "# Here I define a tokenizer and stopword removal function\n",
    "# It returns individual tokens for each article after removing stop words\n",
    "\n",
    "def tokenize_and_stopWordsRemoval(text):\n",
    "    # first tokenize by sentence, then by word to ensure that punctuation is caught as it's own token\n",
    "    tokens = [word for sent in nltk.sent_tokenize(text) for word in nltk.word_tokenize(sent)]\n",
    "    filtered_tokens = []\n",
    "    # filter out any tokens not containing letters (e.g., numeric tokens, raw punctuation) and words whose \n",
    "    # length is less than 2 characters - removes some of the uncatched stopwords  \n",
    "    for token in tokens:\n",
    "        if re.search('[a-zA-Z]', token) and len(token) > 2 and token not in stop_words :\n",
    "            filtered_tokens.append(token)\n",
    "    return filtered_tokens\n",
    "\n",
    "#strip any proper nouns (NNP) or plural proper nouns (NNPS) from a text\n",
    "def strip_proppers_POS(text):\n",
    "    tagged = pos_tag(text) #use NLTK's part of speech tagger\n",
    "    non_propernouns = [word for word,pos in tagged if pos != 'NNP' and pos != 'NNPS']\n",
    "    return non_propernouns\n",
    "\n",
    "print (\"#### BEFORE preprocess article contents : \")\n",
    "print (nyTimesArticles[0][:100])\n",
    "\n",
    "#tokenize\n",
    "%time tokenized_text = [tokenize_and_stopWordsRemoval(text) for text in nyTimesArticles]\n",
    "\n",
    "print (\"##### done with tokenisation and stop word removal. After article contents :\")\n",
    "print (tokenized_text[0][:10])"
   ]
  },
  {
   "cell_type": "code",
   "execution_count": 7,
   "metadata": {},
   "outputs": [
    {
     "name": "stdout",
     "output_type": "stream",
     "text": [
      "CPU times: user 2min 49s, sys: 91.7 ms, total: 2min 49s\n",
      "Wall time: 2min 50s\n"
     ]
    }
   ],
   "source": [
    "%time processed_text = [strip_proppers_POS(text) for text in tokenized_text]"
   ]
  },
  {
   "cell_type": "code",
   "execution_count": 168,
   "metadata": {},
   "outputs": [
    {
     "name": "stdout",
     "output_type": "stream",
     "text": [
      "Tokens removed after removing Proper Nouns for Article 0:\n",
      "['WASHINGTON', 'Stellar', 'Manager', 'Terry', 'Wednesday', 'Wednesday', 'Washington', 'Nationals', 'Steven', 'Matz', 'Logan', 'Verrett', 'Max', 'Scherzer', 'Nationals', 'James', 'Loney', 'Nationals', 'Shawn', 'Kelley', 'Nationals', 'National', 'League', 'East', 'Curtis', 'Granderson', 'Scherzer', 'Granderson', 'Granderson', 'Scherzer', 'Alejandro', 'Aza', 'Scherzer', 'Asdrubal', 'Cabrera', 'Loney', 'Brandon', 'Nimmo', 'Nimmo', 'Granderson', 'Travis', 'Arnaud', 'Aza', 'General', 'Manager', 'Sandy', 'Alderson', 'Earlier', 'May', 'June', 'Verrett', 'Daniel', 'Murphy', 'Addison', 'Reed', 'Jeurys', 'Familia', 'Sean', 'Gilmartin', 'Gilmartin', 'Murphy', 'Verrett', 'Verrett', 'Verrett', 'Wednesday', 'Matz', 'Noah', 'Syndergaard', 'Syndergaard', 'Matz', 'Thursday', 'Chicago', 'Cubs']\n",
      "\n",
      "Tokens removed after removing Proper Nouns for Article 1:\n",
      "['Mayor', 'Bill', 'Blasio', 'Maya', 'Wiley', 'City', 'Hall', 'Complaint', 'Review', 'Board', 'New', 'York', 'City', 'Police', 'Department', 'Blasio', 'Richard', 'Emery', 'April', 'Ms.', 'Wiley', 'Blasio', 'Ms.', 'Wiley', 'Mr.', 'Blasio', 'Mr.', 'Blasio', 'Henry', 'Berger', 'Ms.', 'Wiley', 'Mr.', 'Blasio', 'Ms.', 'Wiley', 'Wednesday', 'Mr.', 'Blasio', 'Ms.', 'Wiley', 'Police', 'Department', 'Mr.', 'Blasio', 'Democrat', 'Mr.', 'Wiley', 'New', 'School', 'Manhattan', 'Wall', 'Street', 'Journal', 'Ms.', 'Wiley', 'City', 'Hall', 'Scott', 'Kleinberg', 'Saturday', 'Twitter', 'Facebook', 'DNA', 'Info', 'Facebook', 'Mr.', 'Kleinberg', 'Mr.', 'Kleinberg', 'Karen', 'Hinton']\n"
     ]
    }
   ],
   "source": [
    "# Sanity Check : check the difference in list contents after removing proper nouns\n",
    "# diff() method prints the tokens removed after strip_proppers_POS() function call\n",
    "\n",
    "def diff(first, second):\n",
    "        second = set(second)\n",
    "        return [item for item in first if item not in second]\n",
    "\n",
    "print (\"Tokens removed after removing Proper Nouns for Article 0:\")\n",
    "print (diff(tokenized_text[0],processed_text[0]))\n",
    "\n",
    "print()\n",
    "print (\"Tokens removed after removing Proper Nouns for Article 1:\")\n",
    "print (diff(tokenized_text[1],processed_text[1]))"
   ]
  },
  {
   "cell_type": "code",
   "execution_count": 12,
   "metadata": {
    "scrolled": true
   },
   "outputs": [
    {
     "name": "stdout",
     "output_type": "stream",
     "text": [
      "CPU times: user 386 ms, sys: 56 ms, total: 442 ms\n",
      "Wall time: 441 ms\n"
     ]
    }
   ],
   "source": [
    "# Remove capitalization\n",
    "%time processed_text_lower = [[word.lower() for word in x] for x in processed_text]"
   ]
  },
  {
   "cell_type": "markdown",
   "metadata": {},
   "source": [
    "### LDA Topic Model :\n",
    "- using **Gensim's** implementation of online LDA\n",
    "- Online Latent Dirichlet Allocation (OLDA) models as presented by Hoffman, Blei, Bach: Online Learning for Latent Dirichlet Allocation, NIPS 2010.\n",
    "- https://radimrehurek.com/gensim/models/ldamodel.html"
   ]
  },
  {
   "cell_type": "code",
   "execution_count": 143,
   "metadata": {},
   "outputs": [],
   "source": [
    "from gensim import corpora, models\n",
    "#create a Gensim dictionary from the texts\n",
    "dictionary = corpora.Dictionary(processed_text_lower)\n",
    "\n",
    "#remove extremes (similar to the min/max df step used when creating the tf-idf matrix)\n",
    "dictionary.filter_extremes(no_below=1, no_above=0.8)\n",
    "\n",
    "#convert the dictionary to a bag of words corpus for reference\n",
    "corpus = [dictionary.doc2bow(text) for text in processed_text_lower]"
   ]
  },
  {
   "cell_type": "code",
   "execution_count": 16,
   "metadata": {
    "scrolled": true
   },
   "outputs": [
    {
     "data": {
      "text/plain": [
       "[(0,\n",
       "  '0.016*\"said\" + 0.011*\"company\" + 0.010*\"percent\" + 0.007*\"would\" + 0.007*\"million\" + 0.007*\"year\" + 0.006*\"companies\" + 0.005*\"last\" + 0.005*\"also\" + 0.005*\"billion\"'),\n",
       " (1,\n",
       "  '0.012*\"said\" + 0.008*\"like\" + 0.007*\"one\" + 0.006*\"show\" + 0.005*\"new\" + 0.004*\"also\" + 0.004*\"first\" + 0.004*\"people\" + 0.004*\"time\" + 0.004*\"would\"'),\n",
       " (2,\n",
       "  '0.028*\"said\" + 0.007*\"police\" + 0.007*\"case\" + 0.007*\"law\" + 0.007*\"court\" + 0.006*\"students\" + 0.005*\"school\" + 0.005*\"one\" + 0.005*\"also\" + 0.004*\"would\"'),\n",
       " (3,\n",
       "  '0.016*\"said\" + 0.012*\"would\" + 0.008*\"campaign\" + 0.005*\"party\" + 0.005*\"could\" + 0.005*\"people\" + 0.005*\"political\" + 0.005*\"state\" + 0.004*\"president\" + 0.004*\"one\"'),\n",
       " (4,\n",
       "  '0.016*\"said\" + 0.008*\"like\" + 0.008*\"one\" + 0.005*\"people\" + 0.004*\"would\" + 0.004*\"time\" + 0.003*\"years\" + 0.003*\"get\" + 0.003*\"back\" + 0.003*\"could\"'),\n",
       " (5,\n",
       "  '0.028*\"said\" + 0.009*\"government\" + 0.008*\"people\" + 0.006*\"officials\" + 0.005*\"country\" + 0.005*\"military\" + 0.005*\"one\" + 0.004*\"security\" + 0.004*\"two\" + 0.004*\"also\"'),\n",
       " (6,\n",
       "  '0.015*\"said\" + 0.009*\"health\" + 0.005*\"cancer\" + 0.005*\"study\" + 0.005*\"drug\" + 0.005*\"people\" + 0.005*\"one\" + 0.005*\"patients\" + 0.005*\"care\" + 0.005*\"medical\"'),\n",
       " (7,\n",
       "  '0.009*\"fashion\" + 0.006*\"designer\" + 0.006*\"said\" + 0.005*\"like\" + 0.005*\"wear\" + 0.005*\"collection\" + 0.004*\"show\" + 0.004*\"brand\" + 0.004*\"one\" + 0.004*\"men\"'),\n",
       " (8,\n",
       "  '0.017*\"said\" + 0.010*\"first\" + 0.010*\"game\" + 0.009*\"team\" + 0.008*\"two\" + 0.007*\"season\" + 0.007*\"one\" + 0.007*\"last\" + 0.006*\"players\" + 0.006*\"games\"'),\n",
       " (9,\n",
       "  '0.014*\"said\" + 0.007*\"building\" + 0.007*\"city\" + 0.007*\"new\" + 0.006*\"million\" + 0.006*\"art\" + 0.005*\"space\" + 0.005*\"one\" + 0.005*\"also\" + 0.005*\"house\"')]"
      ]
     },
     "execution_count": 16,
     "metadata": {},
     "output_type": "execute_result"
    }
   ],
   "source": [
    "%time lda_v1 = models.LdaModel(corpus, num_topics=10,id2word=dictionary,update_every=5,chunksize=10000,passes=50)\n",
    "lda_v1.show_topics()"
   ]
  },
  {
   "cell_type": "markdown",
   "metadata": {},
   "source": [
    "#### Training OLDA with **multicore** support\n",
    "- Change the **number of topics = 20**, keeping other parameters same as lda_v1"
   ]
  },
  {
   "cell_type": "code",
   "execution_count": 21,
   "metadata": {},
   "outputs": [
    {
     "name": "stdout",
     "output_type": "stream",
     "text": [
      "CPU times: user 51min 6s, sys: 1min 50s, total: 52min 56s\n",
      "Wall time: 22min 21s\n"
     ]
    }
   ],
   "source": [
    "from gensim.models import LdaMulticore\n",
    "\n",
    "num_topics = 20\n",
    "\n",
    "dictionary_mlda = corpora.Dictionary(processed_text_lower)\n",
    "\n",
    "# filter out words that appear in 30 documents or less,\n",
    "# or in more than 70% of documents\n",
    "dictionary_mlda.filter_extremes(no_below=30, no_above=0.7)\n",
    "\n",
    "corpus_mlda = [dictionary_mlda.doc2bow(doc) for doc in processed_text_lower]\n",
    "\n",
    "%time lda_v2 = LdaMulticore(corpus_mlda, id2word=dictionary_mlda, chunksize=10000,passes=50,workers=4, num_topics=num_topics)"
   ]
  },
  {
   "cell_type": "code",
   "execution_count": 99,
   "metadata": {},
   "outputs": [],
   "source": [
    "from gensim.models import CoherenceModel\n",
    "\"\"\"\n",
    "Function to get the top word distribution across the topics\n",
    "Calculate model Perplexity and Coherence score\n",
    "\n",
    "Parameters\n",
    "        ----------\n",
    "        lda_model : gensim models.LdaModel\n",
    "            The trained LdaModel\n",
    "        corpus : list\n",
    "            bag of words corpus for reference\n",
    "        dictionary : key-value pairs\n",
    "            Dictionary – a mapping between words and their integer ids\n",
    " \"\"\"\n",
    "\n",
    "def get_topics(lda_model, num_topics):\n",
    "    topics_matrix = lda_model.show_topics(formatted=False, num_topics=num_topics, num_words=20)\n",
    "    topics_matrix = np.array(topics_matrix)\n",
    "\n",
    "    topic_words = topics_matrix[:,1]\n",
    "    count = 0\n",
    "    for i in topic_words:\n",
    "        print('Topic {%d}:' % count),\n",
    "        print(\" \".join([str(word[0]) for word in i]))\n",
    "        count += 1\n",
    "        print()    \n",
    "    \n",
    "def evaluate_topic_model(lda_model, corpus, dictionary, text):\n",
    "    # Compute Perplexity\n",
    "    print('Perplexity: ', lda_model.log_perplexity(corpus))  # a measure of how good the model is, lower the better.\n",
    "    \n",
    "    # Compute Coherence Score\n",
    "    coherence_model_lda = CoherenceModel(model=lda_model, texts=text, dictionary=dictionary, coherence='c_v')\n",
    "    print (\"Pipeline parameters for C_V coherence\")\n",
    "    print (coherence_model_lda)\n",
    "    coherence_lda = coherence_model_lda.get_coherence()\n",
    "    print('\\nCoherence Score: ', coherence_lda)"
   ]
  },
  {
   "cell_type": "code",
   "execution_count": 105,
   "metadata": {
    "scrolled": true
   },
   "outputs": [
    {
     "name": "stdout",
     "output_type": "stream",
     "text": [
      "Topic {0}:\n",
      "said company percent would million year companies last also billion new business years could financial money executive one market chief\n",
      "\n",
      "Topic {1}:\n",
      "said like one show new also first people time would work years music last world film way two even year\n",
      "\n",
      "Topic {2}:\n",
      "said police case law court students school one also would two federal public years state lawyer last people officers investigation\n",
      "\n",
      "Topic {3}:\n",
      "said would campaign party could people political state president one vote also voters even like many support election percent think\n",
      "\n",
      "Topic {4}:\n",
      "said like one people would time years get back could two day family make even first home around way many\n",
      "\n",
      "Topic {5}:\n",
      "said government people officials country military one security two also group american last killed would many war attacks police city\n",
      "\n",
      "Topic {6}:\n",
      "said health cancer study drug people one patients care medical many drugs research doctors found years would could also scientists\n",
      "\n",
      "Topic {7}:\n",
      "fashion designer said like wear collection show brand one men says exhibition also look dress bonds art jewelry pieces clothes\n",
      "\n",
      "Topic {8}:\n",
      "said first game team two season one last players games second play three time would year win back points home\n",
      "\n",
      "Topic {9}:\n",
      "said building city new million art space one also house two room home like years museum including open project homes\n",
      "\n",
      "Perplexity:  -8.581634745993043\n",
      "Pipeline parameters for C_V coherence\n",
      "Coherence_Measure(seg=<function s_one_set at 0x7fc88adc99d8>, prob=<function p_boolean_sliding_window at 0x7fc88adc9bf8>, conf=<function cosine_similarity at 0x7fc857c092f0>, aggr=<function arithmetic_mean at 0x7fc857c09840>)\n",
      "\n",
      "Coherence Score:  0.40627374328688093\n"
     ]
    }
   ],
   "source": [
    "# check the topic-word distribution and perplexity scores for the above two LDA models\n",
    "\n",
    "get_topics(lda_v1, 10)\n",
    "\n",
    "evaluate_topic_model(lda_v1, corpus, dictionary, processed_text_lower)"
   ]
  },
  {
   "cell_type": "code",
   "execution_count": 104,
   "metadata": {
    "scrolled": false
   },
   "outputs": [
    {
     "name": "stdout",
     "output_type": "stream",
     "text": [
      "Topic {0}:\n",
      "would law also could financial court board money decision government last company legal new bank case million whether deal executive\n",
      "\n",
      "Topic {1}:\n",
      "first father graduated year also couple two son last received mother race married bride daughter second groom met time tennis\n",
      "\n",
      "Topic {2}:\n",
      "like show would time first also new people film think years way story work know even book life two music\n",
      "\n",
      "Topic {3}:\n",
      "government country military officials american would also security war political people last forces group two countries president minister foreign attacks\n",
      "\n",
      "Topic {4}:\n",
      "art work artists museum million artist works exhibition show collection director gallery new auction contemporary pieces also year design sale\n",
      "\n",
      "Topic {5}:\n",
      "school students schools city children water people year many education student public residents state high parents fire black college local\n",
      "\n",
      "Topic {6}:\n",
      "people family gay police man killed gun shooting mother told would two son transgender night attack died home group back\n",
      "\n",
      "Topic {7}:\n",
      "city building two house room home new space also apartment area feet park property hotel years three open buildings around\n",
      "\n",
      "Topic {8}:\n",
      "team game players first season games two play points last player teams series time would league goal three second coach\n",
      "\n",
      "Topic {9}:\n",
      "state would bill law states delegates vote legislation could rules convention lawmakers laws measure federal rights support governor people majority\n",
      "\n",
      "Topic {10}:\n",
      "percent million year company billion market companies last oil prices would investors years economy business new growth stock quarter first\n",
      "\n",
      "Topic {11}:\n",
      "police case court two officers investigation lawyer years charges trial also prosecutors judge office prison former would criminal last according\n",
      "\n",
      "Topic {12}:\n",
      "food article restaurant recipe nytimes.com chicken cooking chef misstated may make also restaurants fish eat meat cook recipes last name\n",
      "\n",
      "Topic {13}:\n",
      "first season two game hit last runs yankees home run three second third inning innings games team six five right\n",
      "\n",
      "Topic {14}:\n",
      "like time would years first made way back even around day two also could people much see still look fashion\n",
      "\n",
      "Topic {15}:\n",
      "people like would many even years work percent get much think may want could make time say going women need\n",
      "\n",
      "Topic {16}:\n",
      "health drug cancer medical patients would drugs also could doctors hospital found vehicles cars officials two safety care test tests\n",
      "\n",
      "Topic {17}:\n",
      "company million new year companies also business executive last chief sales customers like industry service would products week including online\n",
      "\n",
      "Topic {18}:\n",
      "campaign would party voters political election presidential president vote also candidate democratic could support percent primary former people state race\n",
      "\n",
      "Topic {19}:\n",
      "people like media news online also social new information use technology could used app data world many digital would users\n",
      "\n",
      "Perplexity:  -7.935223746516602\n",
      "Pipeline parameters for C_V coherence\n",
      "Coherence_Measure(seg=<function s_one_set at 0x7fc88adc99d8>, prob=<function p_boolean_sliding_window at 0x7fc88adc9bf8>, conf=<function cosine_similarity at 0x7fc857c092f0>, aggr=<function arithmetic_mean at 0x7fc857c09840>)\n",
      "\n",
      "Coherence Score:  0.5018889033400405\n"
     ]
    }
   ],
   "source": [
    "get_topics(lda_v2, 20)\n",
    "evaluate_topic_model(lda_v2, corpus_mlda, dictionary_mlda, processed_text_lower)"
   ]
  },
  {
   "cell_type": "markdown",
   "metadata": {},
   "source": [
    "### Inference : lda_v1 v/s lda_v2\n",
    "- **Coherence Score**(C_V coherence) improves from 0.40 to 0.50, on increasing **num_topics to 20** "
   ]
  },
  {
   "cell_type": "markdown",
   "metadata": {},
   "source": [
    "### Latent Dirichlet allocation using Collapsed Gibb's Sampling:\n",
    "- https://pythonhosted.org/lda/api.html\n",
    "- Another external library with an implementation of Collapsed Gibb's Sampling for LDA\n",
    "- Different set of perplexity score can be seen\n",
    "- It can also be seen that the model converges after around 1000 iterations"
   ]
  },
  {
   "cell_type": "code",
   "execution_count": 24,
   "metadata": {},
   "outputs": [],
   "source": [
    "# convert the existing preprocessed text into list of article strings\n",
    "# To be provided as input to CountVectorizer\n",
    "\n",
    "concat_article = [' '.join(article) for article in processed_text_lower]\n",
    "concat_corpus = ' '.join(concat_article)"
   ]
  },
  {
   "cell_type": "code",
   "execution_count": 149,
   "metadata": {},
   "outputs": [],
   "source": [
    "from sklearn.feature_extraction.text import CountVectorizer\n",
    "\n",
    "vec = CountVectorizer(max_df=0.8, max_features=55000, min_df=50)\n",
    "\n",
    "doc_term_matrix = vec.fit_transform(concat_article)\n",
    "vocab = vec.get_feature_names()"
   ]
  },
  {
   "cell_type": "code",
   "execution_count": 147,
   "metadata": {
    "scrolled": true
   },
   "outputs": [
    {
     "name": "stderr",
     "output_type": "stream",
     "text": [
      "/home/rshringi/anaconda3/envs/py3/lib/python3.7/site-packages/lda/utils.py:55: FutureWarning: Conversion of the second argument of issubdtype from `int` to `np.signedinteger` is deprecated. In future, it will be treated as `np.int64 == np.dtype(int).type`.\n",
      "  if sparse and not np.issubdtype(doc_word.dtype, int):\n"
     ]
    },
    {
     "data": {
      "text/plain": [
       "<lda.lda.LDA at 0x7fc84e830b70>"
      ]
     },
     "execution_count": 147,
     "metadata": {},
     "output_type": "execute_result"
    }
   ],
   "source": [
    "import lda\n",
    "\n",
    "\"\"\"Latent Dirichlet allocation using collapsed Gibbs sampling\n",
    "\n",
    "Parameters:\n",
    "    --------\n",
    "    n_topics : int\n",
    "\n",
    "        Number of topics\n",
    "\n",
    "    n_iter : int, default 2000\n",
    "\n",
    "        Number of sampling iterations\n",
    "\n",
    "    alpha : float, default 0.1\n",
    "\n",
    "        Dirichlet parameter for distribution over topics\n",
    "\n",
    "    eta : float, default 0.01\n",
    "\n",
    "        Dirichlet parameter for distribution over words\n",
    "\n",
    "    random_state : int or RandomState, optional\n",
    "\n",
    "        The generator used for the initial topics.\n",
    "\"\"\"\n",
    "\n",
    "model = lda.LDA(n_topics=20, n_iter=1000, random_state=1)\n",
    "\n",
    "model.fit(doc_term_matrix)"
   ]
  },
  {
   "cell_type": "code",
   "execution_count": 150,
   "metadata": {
    "scrolled": false
   },
   "outputs": [
    {
     "name": "stdout",
     "output_type": "stream",
     "text": [
      "Topic 0: said game first two season games second three team last run series hit one\n",
      "Topic 1: food like restaurant also wine make day com recipe one water cooking chef chicken\n",
      "Topic 2: said city two building one room house home three area new space also years\n",
      "Topic 3: campaign said party voters election would presidential vote state political democratic candidate primary percent\n",
      "Topic 4: would said law court state federal could case legal decision government bill rules rights\n",
      "Topic 5: said company companies new like technology people also online business industry service customers use\n",
      "Topic 6: said people military officials killed attacks group attack security fire government two city gun\n",
      "Topic 7: art said work fashion museum like artist artists collection one works show first designer\n",
      "Topic 8: said government country would political president american also countries european world new foreign minister\n",
      "Topic 9: said team players year last first two sports game one player top play round\n",
      "Topic 10: like one would even think much way could people time make get going good\n",
      "Topic 11: women gay father graduated sex married couple mother transgender received also son daughter men\n",
      "Topic 12: percent million year company billion said market financial last companies investors prices money would\n",
      "Topic 13: said would also company former million board chief statement one executive two last according\n",
      "Topic 14: said one would like time people family years life back day first never two\n",
      "Topic 15: article news media book wrote editor public nytimes social published name one books com\n",
      "Topic 16: show music film new also first movie like year series shows play season one\n",
      "Topic 17: school students said year schools percent people children workers many college work years education\n",
      "Topic 18: said health drug medical cancer study patients found years care research also one drugs\n",
      "Topic 19: said police case officers charges year court trial prison prosecutors two man criminal years\n",
      "Model loglikelihood value: -23461933.329302 \n",
      "It can be observed that the loglikelihood value stabilizes over a period of time.\n"
     ]
    },
    {
     "data": {
      "image/png": "[encoded data removed]",
      "text/plain": [
       "<Figure size 432x288 with 1 Axes>"
      ]
     },
     "metadata": {
      "needs_background": "light"
     },
     "output_type": "display_data"
    }
   ],
   "source": [
    "def get_topic_description(model, vocab):\n",
    "    topic_word = model.topic_word_  # model.components_ also works\n",
    "    n_top_words = 15\n",
    "    for i, topic_dist in enumerate(topic_word):\n",
    "        topic_words = np.array(vocab)[np.argsort(topic_dist)][:-n_top_words:-1]\n",
    "        print('Topic {}: {}'.format(i, ' '.join(topic_words)))\n",
    "\n",
    "    print (\"Model loglikelihood value: %f \" % model.loglikelihood())\n",
    "    \n",
    "    plt.xlabel(\"iterations*10\")\n",
    "    plt.ylabel(\"loglikelihood\")\n",
    "    plt.plot(model.loglikelihoods_[5:])\n",
    "    \n",
    "get_topic_description(model, vocab)\n",
    "\n",
    "print (\"It can be observed that the loglikelihood value stabilizes over a period of time.\")"
   ]
  },
  {
   "cell_type": "markdown",
   "metadata": {},
   "source": [
    "### Grid Search for best parameter search:\n",
    "- Using sklearn **GridSearchCV** to search for over parameter space on  **LatentDirichletAllocation** model. "
   ]
  },
  {
   "cell_type": "code",
   "execution_count": 107,
   "metadata": {},
   "outputs": [
    {
     "name": "stderr",
     "output_type": "stream",
     "text": [
      "/home/rshringi/anaconda3/envs/py3/lib/python3.7/site-packages/sklearn/model_selection/_split.py:2053: FutureWarning: You should specify a value for 'cv' instead of relying on the default value. The default value will change from 3 to 5 in version 0.22.\n",
      "  warnings.warn(CV_WARNING, FutureWarning)\n"
     ]
    },
    {
     "data": {
      "text/plain": [
       "GridSearchCV(cv=None, error_score='raise',\n",
       "       estimator=LatentDirichletAllocation(batch_size=128, doc_topic_prior=None,\n",
       "             evaluate_every=-1, learning_decay=0.7, learning_method=None,\n",
       "             learning_offset=10.0, max_doc_update_iter=100, max_iter=10,\n",
       "             mean_change_tol=0.001, n_components=10, n_jobs=1,\n",
       "             n_topics=None, perp_tol=0.1, random_state=None,\n",
       "             topic_word_prior=None, total_samples=1000000.0, verbose=0),\n",
       "       fit_params=None, iid=True, n_jobs=1,\n",
       "       param_grid={'n_topics': [10, 15, 20, 25, 30], 'learning_decay': [0.5, 0.7, 0.9]},\n",
       "       pre_dispatch='2*n_jobs', refit=True, return_train_score='warn',\n",
       "       scoring=None, verbose=0)"
      ]
     },
     "execution_count": 107,
     "metadata": {},
     "output_type": "execute_result"
    }
   ],
   "source": [
    "# source : https://medium.com/@yanlinc/how-to-build-a-lda-topic-model-using-from-text\n",
    "\n",
    "from sklearn.decomposition import LatentDirichletAllocation\n",
    "from sklearn.model_selection import GridSearchCV\n",
    "\n",
    "# Define Search Param\n",
    "search_params = {'n_components': [10, 15, 20, 25, 30], 'learning_decay': [.5, .7, .9]}\n",
    "# Init the Model\n",
    "lda = LatentDirichletAllocation(max_iter=5, learning_method='online', learning_offset=50.,random_state=0)\n",
    "# Init Grid Search Class\n",
    "model = GridSearchCV(lda, param_grid=search_params)\n",
    "# Do the Grid Search\n",
    "model.fit(doc_term_matrix)\n",
    "GridSearchCV(cv=None, error_score='raise',\n",
    "       estimator=LatentDirichletAllocation(batch_size=128, doc_topic_prior=None,\n",
    "             evaluate_every=-1, learning_decay=0.7, learning_method=None,\n",
    "             learning_offset=10.0, max_doc_update_iter=100, max_iter=10,\n",
    "             mean_change_tol=0.001, n_components=10, n_jobs=1,\n",
    "             n_topics=None, perp_tol=0.1, random_state=None,\n",
    "             topic_word_prior=None, total_samples=1000000.0, verbose=0),\n",
    "       fit_params=None, iid=True, n_jobs=1,\n",
    "       param_grid={'n_topics': [10, 15, 20, 25, 30], 'learning_decay': [0.5, 0.7, 0.9]},\n",
    "       pre_dispatch='2*n_jobs', refit=True, return_train_score='warn',\n",
    "       scoring=None, verbose=0)"
   ]
  },
  {
   "cell_type": "code",
   "execution_count": 108,
   "metadata": {},
   "outputs": [
    {
     "name": "stdout",
     "output_type": "stream",
     "text": [
      "Best Model's Params:  {'learning_decay': 0.5, 'n_components': 20}\n",
      "Best Log Likelihood Score:  -7285582.394132242\n",
      "Model Perplexity:  2161.615129623764\n"
     ]
    }
   ],
   "source": [
    "# Best Model\n",
    "best_lda_model = model.best_estimator_\n",
    "# Model Parameters\n",
    "print(\"Best Model's Params: \", model.best_params_)\n",
    "# Log Likelihood Score\n",
    "print(\"Best Log Likelihood Score: \", model.best_score_)\n",
    "# Perplexity\n",
    "print(\"Model Perplexity: \", best_lda_model.perplexity(doc_term_matrix))"
   ]
  },
  {
   "cell_type": "markdown",
   "metadata": {},
   "source": [
    "### Inference:\n",
    "- It's evident sklearn's LatentDirichletAllocation model is NOT achieving comparable results to gensim's OLDA\n",
    "    - max_iterations = 10 while GridSearch params could be the main reason\n",
    "    - due to limited time and computation resources, can not set high value for this parameter \n",
    "- Hoever both models agree on number of topics = 20"
   ]
  },
  {
   "cell_type": "markdown",
   "metadata": {},
   "source": [
    "### Hierarchical Dirichlet Process\n",
    "- Evaluate ***Hierarchial Dirichlet Process*** model available in Gensim\n",
    "- The core estimation code is directly adapted from the blei-lab/online-hdp from Wang, Paisley, Blei: “Online Variational Inference for the Hierarchical Dirichlet Process”, JMLR (2011).\n",
    "https://radimrehurek.com/gensim/models/hdpmodel.html"
   ]
  },
  {
   "cell_type": "code",
   "execution_count": 151,
   "metadata": {
    "scrolled": true
   },
   "outputs": [],
   "source": [
    "from gensim.models import HdpModel\n",
    "# split the corpus in test and train set : 20%-80%\n",
    "# ideally should be done random shuffle\n",
    "train_len = int(0.8 * len(corpus_mlda))\n",
    "hdp_corpus_train = corpus_mlda[:train_len]\n",
    "hdp_corpus_test = corpus_mlda[train_len:]\n",
    "\n",
    "hdp_model = HdpModel(hdp_corpus_train, id2word=dictionary_mlda, chunksize=10000)"
   ]
  },
  {
   "cell_type": "code",
   "execution_count": 153,
   "metadata": {
    "scrolled": true
   },
   "outputs": [
    {
     "name": "stdout",
     "output_type": "stream",
     "text": [
      "Topic {0}:\n",
      "would like people also could two years first even including considerably last time state back many anxiety southeast seen voters\n",
      "\n",
      "Topic {1}:\n",
      "would last year like bride since also lawyers people years two time company merely collecting new could percent trouble comic\n",
      "\n",
      "Topic {2}:\n",
      "would like people shaping new mother symptoms time also two shots magna instrument first rifle many last worldwide single-family even\n",
      "\n",
      "Topic {3}:\n",
      "would fun like tables injured last weekend emotionally first version prosecutors also people workout could bullying outset rolled years million\n",
      "\n",
      "Topic {4}:\n",
      "airports like consequence people openness prohibiting rubber wheels also group sex numerous figure assess rising removal mortgages years less allied\n",
      "\n",
      "Topic {5}:\n",
      "would facing last many years people playwright prevent services practice culture space also could underwent much client like post urban\n",
      "\n",
      "Topic {6}:\n",
      "boards would reserved improvement witty picnic charts like people change cookingcare way also commentator two son closet portrait venue movement\n",
      "\n",
      "Topic {7}:\n",
      "neighbors would sign happened called like grabbed display release nights last first elephants also telecommunications cash irregularities misstated flags coordinating\n",
      "\n",
      "Topic {8}:\n",
      "crossed two would lion also constructed long last breed commissioner must guiding people approximately discovered first goals agitated packed announcement\n",
      "\n",
      "Topic {9}:\n",
      "would like people scorer relievers gauge also robbery could portfolio complete existing traditional colors striking accustomed three-bedroom cry officiated undertaking\n",
      "\n",
      "Topic {10}:\n",
      "mechanism acceptance acquire practice would presumed dug steer lawful fans bitter exploration correct longtime withdrawn like awareness antidoping reserves people\n",
      "\n",
      "Topic {11}:\n",
      "specifically informed tough aware striving worth also like underneath mother still would 3-year-old cracks divide competing contributors consequences winner jointly\n",
      "\n",
      "Topic {12}:\n",
      "also visits people sex rich singers tax trim reliable generates account pretending years adorned class accusation facing funding newest accept\n",
      "\n",
      "Topic {13}:\n",
      "two like people would basket aircraft out. drafting shoes separately see. legitimacy tale haunting semester first safely blame much violence\n",
      "\n",
      "Topic {14}:\n",
      "patience ballots lending visitors attending director musicians throwing cure preventing belonging resigned connecting affect angrily regards law proposition spur raises\n",
      "\n",
      "Topic {15}:\n",
      "chopped atomic arc mobile like lows perspective to. nearly fixing columnist rented efforts slipped reflection impressed taste viral starred risk\n",
      "\n",
      "Topic {16}:\n",
      "sung official indications tourists company dominated underscores birds include box ink tainted southwestern professors three-story helmet recognize fled market circles\n",
      "\n",
      "Topic {17}:\n",
      "tickets duties foreigners burden progress cloud sounds says imagery size like magazines document assured also salt sweeping machinery whipped hardware\n",
      "\n",
      "Topic {18}:\n",
      "header collaborator again. protesting mirrored fodder print damage founded publishers accustomed uphill russian far-right editors fabrics years subsequently encourage testified\n",
      "\n",
      "Topic {19}:\n",
      "would like maneuver instituted petition somebody also intensified bulk nearby stance paralyzed echoed 19th homered census years made readers briefing\n",
      "\n"
     ]
    }
   ],
   "source": [
    "# checking the topic-word distribution\n",
    "get_topics(hdp_model, 20)"
   ]
  },
  {
   "cell_type": "code",
   "execution_count": 154,
   "metadata": {},
   "outputs": [],
   "source": [
    "# The value of total likelihood obtained by evaluating the model for all documents in the test corpus\n",
    "likelihood = hdp_model.evaluate_test_corpus(hdp_corpus_test)\n",
    "# log_perplexity = (-1 * (likelihood/len(vocab)))\n",
    "log_perplexity = (-1 * (likelihood/len(dictionary_mlda)))"
   ]
  },
  {
   "cell_type": "code",
   "execution_count": 155,
   "metadata": {},
   "outputs": [
    {
     "name": "stdout",
     "output_type": "stream",
     "text": [
      "Values for loglikelihood: -4803594.303194, log_perplexity: 490.062671 \n"
     ]
    }
   ],
   "source": [
    "print (\"Values for loglikelihood: %f, log_perplexity: %f \" % (likelihood, log_perplexity))"
   ]
  },
  {
   "cell_type": "markdown",
   "metadata": {},
   "source": [
    "### Inference :\n",
    "- On inspection the topics generated by Hierarchial Dirichlet Process model appear to be overlaping\n",
    "- **Topic-word distributions** are not as orthogonal and meaningful when compared to OLDA models v1 and v2 above "
   ]
  },
  {
   "cell_type": "code",
   "execution_count": 94,
   "metadata": {},
   "outputs": [
    {
     "name": "stderr",
     "output_type": "stream",
     "text": [
      "/home/rshringi/anaconda3/envs/py3/lib/python3.7/site-packages/pyLDAvis/_prepare.py:257: FutureWarning: Sorting because non-concatenation axis is not aligned. A future version\n",
      "of pandas will change to not sort by default.\n",
      "\n",
      "To accept the future behavior, pass 'sort=False'.\n",
      "\n",
      "To retain the current behavior and silence the warning, pass 'sort=True'.\n",
      "\n",
      "  return pd.concat([default_term_info] + list(topic_dfs))\n"
     ]
    },
    {
     "name": "stdout",
     "output_type": "stream",
     "text": [
      "CPU times: user 57.7 s, sys: 1.34 s, total: 59.1 s\n",
      "Wall time: 22min 32s\n"
     ]
    }
   ],
   "source": [
    "%%time\n",
    "from pyLDAvis import sklearn as sklearn_lda\n",
    "from pyLDAvis import gensim\n",
    "import pickle \n",
    "import pyLDAvis\n",
    "\n",
    "# Visualize the topics\n",
    "pyLDAvis.enable_notebook()\n",
    "# vis = gensim.prepare(lda_v1, corpus, dictionary)\n",
    "vis"
   ]
  }
 ],
 "metadata": {
  "kernelspec": {
   "display_name": "Python 3",
   "language": "python",
   "name": "python3"
  },
  "language_info": {
   "codemirror_mode": {
    "name": "ipython",
    "version": 3
   },
   "file_extension": ".py",
   "mimetype": "text/x-python",
   "name": "python",
   "nbconvert_exporter": "python",
   "pygments_lexer": "ipython3",
   "version": "3.7.3"
  }
 },
 "nbformat": 4,
 "nbformat_minor": 1
}
